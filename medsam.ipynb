{
 "cells": [
  {
   "cell_type": "code",
   "execution_count": 3,
   "metadata": {},
   "outputs": [],
   "source": [
    "import os\n",
    "from transformers import MaskFormerImageProcessor, MaskFormerForInstanceSegmentation, SegformerForSemanticSegmentation, SamModel, SamProcessor\n",
    "from PIL import Image\n",
    "from torchvision import transforms\n",
    "import torch\n",
    "import numpy as np\n",
    "import torch.nn as nn\n",
    "import matplotlib.pyplot as plt\n",
    "import pandas as pd\n",
    "from sklearn.model_selection import train_test_split\n",
    "from torch.utils.data import DataLoader, Dataset"
   ]
  },
  {
   "cell_type": "markdown",
   "metadata": {},
   "source": [
    "## Show Image"
   ]
  },
  {
   "cell_type": "code",
   "execution_count": 18,
   "metadata": {},
   "outputs": [],
   "source": [
    "# image = example['pixel_values']\n",
    "# raw_image = Image.open('/scratch/alpine/skinder@xsede.org/glaucoma_segmentation_data/seg_public_all_vtwo/images/drishtiGS_054.png') # Scott\n",
    "raw_image = Image.open('/sddata/data/MedSAM/public_test_data_01_10_2023/Color_Fundus/visivite_GA.png')"
   ]
  },
  {
   "cell_type": "code",
   "execution_count": 19,
   "metadata": {},
   "outputs": [
    {
     "data": {
      "text/plain": [
       "array([[[  0,   0,   0, 255],\n",
       "        [  0,   0,   0, 255],\n",
       "        [  0,   0,   0, 255],\n",
       "        ...,\n",
       "        [  0,   0,   0, 255],\n",
       "        [  0,   0,   0, 255],\n",
       "        [  0,   0,   0, 255]],\n",
       "\n",
       "       [[  0,   0,   0, 255],\n",
       "        [  0,   0,   0, 255],\n",
       "        [  0,   0,   0, 255],\n",
       "        ...,\n",
       "        [  0,   0,   0, 255],\n",
       "        [  0,   0,   0, 255],\n",
       "        [  0,   0,   0, 255]],\n",
       "\n",
       "       [[  0,   0,   0, 255],\n",
       "        [  0,   0,   0, 255],\n",
       "        [  0,   0,   0, 255],\n",
       "        ...,\n",
       "        [  0,   0,   0, 255],\n",
       "        [  0,   0,   0, 255],\n",
       "        [  0,   0,   0, 255]],\n",
       "\n",
       "       ...,\n",
       "\n",
       "       [[  0,   0,   0, 255],\n",
       "        [  0,   0,   0, 255],\n",
       "        [  0,   0,   0, 255],\n",
       "        ...,\n",
       "        [  0,   0,   0, 255],\n",
       "        [  0,   0,   0, 255],\n",
       "        [  0,   0,   0, 255]],\n",
       "\n",
       "       [[  0,   0,   0, 255],\n",
       "        [  0,   0,   0, 255],\n",
       "        [  0,   0,   0, 255],\n",
       "        ...,\n",
       "        [  0,   0,   0, 255],\n",
       "        [  0,   0,   0, 255],\n",
       "        [  0,   0,   0, 255]],\n",
       "\n",
       "       [[  0,   0,   0, 255],\n",
       "        [  0,   0,   0, 255],\n",
       "        [  0,   0,   0, 255],\n",
       "        ...,\n",
       "        [  0,   0,   0, 255],\n",
       "        [  0,   0,   0, 255],\n",
       "        [  0,   0,   0, 255]]], dtype=uint8)"
      ]
     },
     "execution_count": 19,
     "metadata": {},
     "output_type": "execute_result"
    }
   ],
   "source": [
    "np.array(raw_image)"
   ]
  },
  {
   "cell_type": "code",
   "execution_count": 6,
   "metadata": {},
   "outputs": [
    {
     "data": {
      "text/plain": [
       "(1811, 2039, 4)"
      ]
     },
     "execution_count": 6,
     "metadata": {},
     "output_type": "execute_result"
    }
   ],
   "source": [
    "np.array(raw_image).shape"
   ]
  },
  {
   "cell_type": "code",
   "execution_count": 27,
   "metadata": {},
   "outputs": [],
   "source": [
    "device = \"cuda:1\" if torch.cuda.is_available() else \"cpu\"\n",
    "\n",
    "# model = SamModel.from_pretrained(\"flaviagiammarino/medsam-vit-base\").to(device)\n",
    "model = torch.load(\"/sddata/data/MedSAM/model/flaviagiammarino_medsam-vit-base-model.pt\").to(device)\n",
    "processor = SamProcessor.from_pretrained(\"flaviagiammarino/medsam-vit-base\")\n",
    "\n",
    "# img_url = \"https://huggingface.co/flaviagiammarino/medsam-vit-base/resolve/main/scripts/input.png\"\n",
    "# raw_image = Image.open(requests.get(img_url, stream=True).raw).convert(\"RGB\")\n"
   ]
  },
  {
   "cell_type": "code",
   "execution_count": 28,
   "metadata": {},
   "outputs": [
    {
     "data": {
      "text/plain": [
       "SamProcessor:\n",
       "- image_processor: SamImageProcessor {\n",
       "  \"do_convert_rgb\": true,\n",
       "  \"do_normalize\": false,\n",
       "  \"do_pad\": true,\n",
       "  \"do_rescale\": true,\n",
       "  \"do_resize\": true,\n",
       "  \"image_mean\": [\n",
       "    0,\n",
       "    0,\n",
       "    0\n",
       "  ],\n",
       "  \"image_processor_type\": \"SamImageProcessor\",\n",
       "  \"image_std\": [\n",
       "    1,\n",
       "    1,\n",
       "    1\n",
       "  ],\n",
       "  \"mask_pad_size\": {\n",
       "    \"height\": 256,\n",
       "    \"width\": 256\n",
       "  },\n",
       "  \"mask_size\": {\n",
       "    \"longest_edge\": 256\n",
       "  },\n",
       "  \"pad_size\": {\n",
       "    \"height\": 1024,\n",
       "    \"width\": 1024\n",
       "  },\n",
       "  \"processor_class\": \"SamProcessor\",\n",
       "  \"resample\": 3,\n",
       "  \"rescale_factor\": 0.00392156862745098,\n",
       "  \"size\": {\n",
       "    \"longest_edge\": 1024\n",
       "  }\n",
       "}\n",
       "\n",
       "\n",
       "{\n",
       "  \"processor_class\": \"SamProcessor\"\n",
       "}"
      ]
     },
     "execution_count": 28,
     "metadata": {},
     "output_type": "execute_result"
    }
   ],
   "source": [
    "processor"
   ]
  },
  {
   "cell_type": "code",
   "execution_count": 29,
   "metadata": {},
   "outputs": [
    {
     "data": {
      "text/plain": [
       "SamConfig {\n",
       "  \"_name_or_path\": \"flaviagiammarino/medsam-vit-base\",\n",
       "  \"architectures\": [\n",
       "    \"SamModel\"\n",
       "  ],\n",
       "  \"initializer_range\": 0.02,\n",
       "  \"mask_decoder_config\": {\n",
       "    \"model_type\": \"\"\n",
       "  },\n",
       "  \"model_type\": \"sam\",\n",
       "  \"prompt_encoder_config\": {\n",
       "    \"model_type\": \"\"\n",
       "  },\n",
       "  \"torch_dtype\": \"float32\",\n",
       "  \"transformers_version\": \"4.38.2\",\n",
       "  \"vision_config\": {\n",
       "    \"dropout\": 0.0,\n",
       "    \"initializer_factor\": 1.0,\n",
       "    \"intermediate_size\": 6144,\n",
       "    \"model_type\": \"\",\n",
       "    \"projection_dim\": 512\n",
       "  }\n",
       "}"
      ]
     },
     "execution_count": 29,
     "metadata": {},
     "output_type": "execute_result"
    }
   ],
   "source": [
    "model.config\n",
    "\n",
    "# model.state_dict()"
   ]
  },
  {
   "cell_type": "code",
   "execution_count": 25,
   "metadata": {},
   "outputs": [],
   "source": [
    "torch.save(model.state_dict(), \"/sddata/data/MedSAM/model/flaviagiammarino_medsam-vit-base-state-dict.pt\")\n",
    "torch.save(model, \"/sddata/data/MedSAM/model/flaviagiammarino_medsam-vit-base-model.pt\")"
   ]
  },
  {
   "cell_type": "markdown",
   "metadata": {},
   "source": [
    "# Inference"
   ]
  },
  {
   "cell_type": "code",
   "execution_count": 11,
   "metadata": {},
   "outputs": [
    {
     "ename": "ValueError",
     "evalue": "Unable to infer channel dimension format",
     "output_type": "error",
     "traceback": [
      "\u001b[0;31m---------------------------------------------------------------------------\u001b[0m",
      "\u001b[0;31mValueError\u001b[0m                                Traceback (most recent call last)",
      "Cell \u001b[0;32mIn[11], line 4\u001b[0m\n\u001b[1;32m      1\u001b[0m \u001b[38;5;66;03m# input_boxes = [0., 0., 2429., 2099.]\u001b[39;00m\n\u001b[1;32m      2\u001b[0m input_boxes \u001b[38;5;241m=\u001b[39m [\u001b[38;5;241m600.\u001b[39m, \u001b[38;5;241m600.\u001b[39m, \u001b[38;5;241m1200.\u001b[39m, \u001b[38;5;241m1400.\u001b[39m] \u001b[38;5;66;03m# [x1, y1, x2, y2]\u001b[39;00m\n\u001b[0;32m----> 4\u001b[0m inputs \u001b[38;5;241m=\u001b[39m \u001b[43mprocessor\u001b[49m\u001b[43m(\u001b[49m\u001b[43mraw_image\u001b[49m\u001b[43m,\u001b[49m\u001b[43m \u001b[49m\u001b[43minput_boxes\u001b[49m\u001b[38;5;241;43m=\u001b[39;49m\u001b[43m[\u001b[49m\u001b[43m[\u001b[49m\u001b[43minput_boxes\u001b[49m\u001b[43m]\u001b[49m\u001b[43m]\u001b[49m\u001b[43m,\u001b[49m\u001b[43m \u001b[49m\u001b[43mreturn_tensors\u001b[49m\u001b[38;5;241;43m=\u001b[39;49m\u001b[38;5;124;43m\"\u001b[39;49m\u001b[38;5;124;43mpt\u001b[39;49m\u001b[38;5;124;43m\"\u001b[39;49m\u001b[43m)\u001b[49m\u001b[38;5;241m.\u001b[39mto(device)\n\u001b[1;32m      5\u001b[0m inputs\n\u001b[1;32m      6\u001b[0m outputs \u001b[38;5;241m=\u001b[39m model(\u001b[38;5;241m*\u001b[39m\u001b[38;5;241m*\u001b[39minputs, multimask_output\u001b[38;5;241m=\u001b[39m\u001b[38;5;28;01mFalse\u001b[39;00m)\n",
      "File \u001b[0;32m~/.pyenv/versions/3.10.4/envs/MedSAM/lib/python3.10/site-packages/transformers/models/sam/processing_sam.py:71\u001b[0m, in \u001b[0;36mSamProcessor.__call__\u001b[0;34m(self, images, segmentation_maps, input_points, input_labels, input_boxes, return_tensors, **kwargs)\u001b[0m\n\u001b[1;32m     57\u001b[0m \u001b[38;5;28;01mdef\u001b[39;00m \u001b[38;5;21m__call__\u001b[39m(\n\u001b[1;32m     58\u001b[0m     \u001b[38;5;28mself\u001b[39m,\n\u001b[1;32m     59\u001b[0m     images\u001b[38;5;241m=\u001b[39m\u001b[38;5;28;01mNone\u001b[39;00m,\n\u001b[0;32m   (...)\u001b[0m\n\u001b[1;32m     65\u001b[0m     \u001b[38;5;241m*\u001b[39m\u001b[38;5;241m*\u001b[39mkwargs,\n\u001b[1;32m     66\u001b[0m ) \u001b[38;5;241m-\u001b[39m\u001b[38;5;241m>\u001b[39m BatchEncoding:\n\u001b[1;32m     67\u001b[0m \u001b[38;5;250m    \u001b[39m\u001b[38;5;124;03m\"\"\"\u001b[39;00m\n\u001b[1;32m     68\u001b[0m \u001b[38;5;124;03m    This method uses [`SamImageProcessor.__call__`] method to prepare image(s) for the model. It also prepares 2D\u001b[39;00m\n\u001b[1;32m     69\u001b[0m \u001b[38;5;124;03m    points and bounding boxes for the model if they are provided.\u001b[39;00m\n\u001b[1;32m     70\u001b[0m \u001b[38;5;124;03m    \"\"\"\u001b[39;00m\n\u001b[0;32m---> 71\u001b[0m     encoding_image_processor \u001b[38;5;241m=\u001b[39m \u001b[38;5;28;43mself\u001b[39;49m\u001b[38;5;241;43m.\u001b[39;49m\u001b[43mimage_processor\u001b[49m\u001b[43m(\u001b[49m\n\u001b[1;32m     72\u001b[0m \u001b[43m        \u001b[49m\u001b[43mimages\u001b[49m\u001b[43m,\u001b[49m\n\u001b[1;32m     73\u001b[0m \u001b[43m        \u001b[49m\u001b[43msegmentation_maps\u001b[49m\u001b[38;5;241;43m=\u001b[39;49m\u001b[43msegmentation_maps\u001b[49m\u001b[43m,\u001b[49m\n\u001b[1;32m     74\u001b[0m \u001b[43m        \u001b[49m\u001b[43mreturn_tensors\u001b[49m\u001b[38;5;241;43m=\u001b[39;49m\u001b[43mreturn_tensors\u001b[49m\u001b[43m,\u001b[49m\n\u001b[1;32m     75\u001b[0m \u001b[43m        \u001b[49m\u001b[38;5;241;43m*\u001b[39;49m\u001b[38;5;241;43m*\u001b[39;49m\u001b[43mkwargs\u001b[49m\u001b[43m,\u001b[49m\n\u001b[1;32m     76\u001b[0m \u001b[43m    \u001b[49m\u001b[43m)\u001b[49m\n\u001b[1;32m     78\u001b[0m     \u001b[38;5;66;03m# pop arguments that are not used in the foward but used nevertheless\u001b[39;00m\n\u001b[1;32m     79\u001b[0m     original_sizes \u001b[38;5;241m=\u001b[39m encoding_image_processor[\u001b[38;5;124m\"\u001b[39m\u001b[38;5;124moriginal_sizes\u001b[39m\u001b[38;5;124m\"\u001b[39m]\n",
      "File \u001b[0;32m~/.pyenv/versions/3.10.4/envs/MedSAM/lib/python3.10/site-packages/transformers/image_processing_utils.py:551\u001b[0m, in \u001b[0;36mBaseImageProcessor.__call__\u001b[0;34m(self, images, **kwargs)\u001b[0m\n\u001b[1;32m    549\u001b[0m \u001b[38;5;28;01mdef\u001b[39;00m \u001b[38;5;21m__call__\u001b[39m(\u001b[38;5;28mself\u001b[39m, images, \u001b[38;5;241m*\u001b[39m\u001b[38;5;241m*\u001b[39mkwargs) \u001b[38;5;241m-\u001b[39m\u001b[38;5;241m>\u001b[39m BatchFeature:\n\u001b[1;32m    550\u001b[0m \u001b[38;5;250m    \u001b[39m\u001b[38;5;124;03m\"\"\"Preprocess an image or a batch of images.\"\"\"\u001b[39;00m\n\u001b[0;32m--> 551\u001b[0m     \u001b[38;5;28;01mreturn\u001b[39;00m \u001b[38;5;28;43mself\u001b[39;49m\u001b[38;5;241;43m.\u001b[39;49m\u001b[43mpreprocess\u001b[49m\u001b[43m(\u001b[49m\u001b[43mimages\u001b[49m\u001b[43m,\u001b[49m\u001b[43m \u001b[49m\u001b[38;5;241;43m*\u001b[39;49m\u001b[38;5;241;43m*\u001b[39;49m\u001b[43mkwargs\u001b[49m\u001b[43m)\u001b[49m\n",
      "File \u001b[0;32m~/.pyenv/versions/3.10.4/envs/MedSAM/lib/python3.10/site-packages/transformers/models/sam/image_processing_sam.py:521\u001b[0m, in \u001b[0;36mSamImageProcessor.preprocess\u001b[0;34m(self, images, segmentation_maps, do_resize, size, mask_size, resample, do_rescale, rescale_factor, do_normalize, image_mean, image_std, do_pad, pad_size, mask_pad_size, do_convert_rgb, return_tensors, data_format, input_data_format, **kwargs)\u001b[0m\n\u001b[1;32m    504\u001b[0m         \u001b[38;5;28;01mraise\u001b[39;00m \u001b[38;5;167;01mValueError\u001b[39;00m(\n\u001b[1;32m    505\u001b[0m             \u001b[38;5;124m\"\u001b[39m\u001b[38;5;124mInvalid segmentation map type. Must be of type PIL.Image.Image, numpy.ndarray, \u001b[39m\u001b[38;5;124m\"\u001b[39m\n\u001b[1;32m    506\u001b[0m             \u001b[38;5;124m\"\u001b[39m\u001b[38;5;124mtorch.Tensor, tf.Tensor or jax.ndarray.\u001b[39m\u001b[38;5;124m\"\u001b[39m\n\u001b[1;32m    507\u001b[0m         )\n\u001b[1;32m    508\u001b[0m validate_preprocess_arguments(\n\u001b[1;32m    509\u001b[0m     do_rescale\u001b[38;5;241m=\u001b[39mdo_rescale,\n\u001b[1;32m    510\u001b[0m     rescale_factor\u001b[38;5;241m=\u001b[39mrescale_factor,\n\u001b[0;32m   (...)\u001b[0m\n\u001b[1;32m    518\u001b[0m     resample\u001b[38;5;241m=\u001b[39mresample,\n\u001b[1;32m    519\u001b[0m )\n\u001b[0;32m--> 521\u001b[0m images, original_sizes, reshaped_input_sizes \u001b[38;5;241m=\u001b[39m \u001b[38;5;28;43mzip\u001b[39;49m\u001b[43m(\u001b[49m\n\u001b[1;32m    522\u001b[0m \u001b[43m    \u001b[49m\u001b[38;5;241;43m*\u001b[39;49m\u001b[43m(\u001b[49m\n\u001b[1;32m    523\u001b[0m \u001b[43m        \u001b[49m\u001b[38;5;28;43mself\u001b[39;49m\u001b[38;5;241;43m.\u001b[39;49m\u001b[43m_preprocess_image\u001b[49m\u001b[43m(\u001b[49m\n\u001b[1;32m    524\u001b[0m \u001b[43m            \u001b[49m\u001b[43mimage\u001b[49m\u001b[38;5;241;43m=\u001b[39;49m\u001b[43mimg\u001b[49m\u001b[43m,\u001b[49m\n\u001b[1;32m    525\u001b[0m \u001b[43m            \u001b[49m\u001b[43mdo_resize\u001b[49m\u001b[38;5;241;43m=\u001b[39;49m\u001b[43mdo_resize\u001b[49m\u001b[43m,\u001b[49m\n\u001b[1;32m    526\u001b[0m \u001b[43m            \u001b[49m\u001b[43msize\u001b[49m\u001b[38;5;241;43m=\u001b[39;49m\u001b[43msize\u001b[49m\u001b[43m,\u001b[49m\n\u001b[1;32m    527\u001b[0m \u001b[43m            \u001b[49m\u001b[43mresample\u001b[49m\u001b[38;5;241;43m=\u001b[39;49m\u001b[43mresample\u001b[49m\u001b[43m,\u001b[49m\n\u001b[1;32m    528\u001b[0m \u001b[43m            \u001b[49m\u001b[43mdo_rescale\u001b[49m\u001b[38;5;241;43m=\u001b[39;49m\u001b[43mdo_rescale\u001b[49m\u001b[43m,\u001b[49m\n\u001b[1;32m    529\u001b[0m \u001b[43m            \u001b[49m\u001b[43mrescale_factor\u001b[49m\u001b[38;5;241;43m=\u001b[39;49m\u001b[43mrescale_factor\u001b[49m\u001b[43m,\u001b[49m\n\u001b[1;32m    530\u001b[0m \u001b[43m            \u001b[49m\u001b[43mdo_normalize\u001b[49m\u001b[38;5;241;43m=\u001b[39;49m\u001b[43mdo_normalize\u001b[49m\u001b[43m,\u001b[49m\n\u001b[1;32m    531\u001b[0m \u001b[43m            \u001b[49m\u001b[43mimage_mean\u001b[49m\u001b[38;5;241;43m=\u001b[39;49m\u001b[43mimage_mean\u001b[49m\u001b[43m,\u001b[49m\n\u001b[1;32m    532\u001b[0m \u001b[43m            \u001b[49m\u001b[43mimage_std\u001b[49m\u001b[38;5;241;43m=\u001b[39;49m\u001b[43mimage_std\u001b[49m\u001b[43m,\u001b[49m\n\u001b[1;32m    533\u001b[0m \u001b[43m            \u001b[49m\u001b[43mdo_pad\u001b[49m\u001b[38;5;241;43m=\u001b[39;49m\u001b[43mdo_pad\u001b[49m\u001b[43m,\u001b[49m\n\u001b[1;32m    534\u001b[0m \u001b[43m            \u001b[49m\u001b[43mpad_size\u001b[49m\u001b[38;5;241;43m=\u001b[39;49m\u001b[43mpad_size\u001b[49m\u001b[43m,\u001b[49m\n\u001b[1;32m    535\u001b[0m \u001b[43m            \u001b[49m\u001b[43mdo_convert_rgb\u001b[49m\u001b[38;5;241;43m=\u001b[39;49m\u001b[43mdo_convert_rgb\u001b[49m\u001b[43m,\u001b[49m\n\u001b[1;32m    536\u001b[0m \u001b[43m            \u001b[49m\u001b[43mdata_format\u001b[49m\u001b[38;5;241;43m=\u001b[39;49m\u001b[43mdata_format\u001b[49m\u001b[43m,\u001b[49m\n\u001b[1;32m    537\u001b[0m \u001b[43m            \u001b[49m\u001b[43minput_data_format\u001b[49m\u001b[38;5;241;43m=\u001b[39;49m\u001b[43minput_data_format\u001b[49m\u001b[43m,\u001b[49m\n\u001b[1;32m    538\u001b[0m \u001b[43m        \u001b[49m\u001b[43m)\u001b[49m\n\u001b[1;32m    539\u001b[0m \u001b[43m        \u001b[49m\u001b[38;5;28;43;01mfor\u001b[39;49;00m\u001b[43m \u001b[49m\u001b[43mimg\u001b[49m\u001b[43m \u001b[49m\u001b[38;5;129;43;01min\u001b[39;49;00m\u001b[43m \u001b[49m\u001b[43mimages\u001b[49m\n\u001b[1;32m    540\u001b[0m \u001b[43m    \u001b[49m\u001b[43m)\u001b[49m\n\u001b[1;32m    541\u001b[0m \u001b[43m\u001b[49m\u001b[43m)\u001b[49m\n\u001b[1;32m    543\u001b[0m data \u001b[38;5;241m=\u001b[39m {\n\u001b[1;32m    544\u001b[0m     \u001b[38;5;124m\"\u001b[39m\u001b[38;5;124mpixel_values\u001b[39m\u001b[38;5;124m\"\u001b[39m: images,\n\u001b[1;32m    545\u001b[0m     \u001b[38;5;124m\"\u001b[39m\u001b[38;5;124moriginal_sizes\u001b[39m\u001b[38;5;124m\"\u001b[39m: original_sizes,\n\u001b[1;32m    546\u001b[0m     \u001b[38;5;124m\"\u001b[39m\u001b[38;5;124mreshaped_input_sizes\u001b[39m\u001b[38;5;124m\"\u001b[39m: reshaped_input_sizes,\n\u001b[1;32m    547\u001b[0m }\n\u001b[1;32m    549\u001b[0m \u001b[38;5;28;01mif\u001b[39;00m segmentation_maps \u001b[38;5;129;01mis\u001b[39;00m \u001b[38;5;129;01mnot\u001b[39;00m \u001b[38;5;28;01mNone\u001b[39;00m:\n",
      "File \u001b[0;32m~/.pyenv/versions/3.10.4/envs/MedSAM/lib/python3.10/site-packages/transformers/models/sam/image_processing_sam.py:523\u001b[0m, in \u001b[0;36m<genexpr>\u001b[0;34m(.0)\u001b[0m\n\u001b[1;32m    504\u001b[0m         \u001b[38;5;28;01mraise\u001b[39;00m \u001b[38;5;167;01mValueError\u001b[39;00m(\n\u001b[1;32m    505\u001b[0m             \u001b[38;5;124m\"\u001b[39m\u001b[38;5;124mInvalid segmentation map type. Must be of type PIL.Image.Image, numpy.ndarray, \u001b[39m\u001b[38;5;124m\"\u001b[39m\n\u001b[1;32m    506\u001b[0m             \u001b[38;5;124m\"\u001b[39m\u001b[38;5;124mtorch.Tensor, tf.Tensor or jax.ndarray.\u001b[39m\u001b[38;5;124m\"\u001b[39m\n\u001b[1;32m    507\u001b[0m         )\n\u001b[1;32m    508\u001b[0m validate_preprocess_arguments(\n\u001b[1;32m    509\u001b[0m     do_rescale\u001b[38;5;241m=\u001b[39mdo_rescale,\n\u001b[1;32m    510\u001b[0m     rescale_factor\u001b[38;5;241m=\u001b[39mrescale_factor,\n\u001b[0;32m   (...)\u001b[0m\n\u001b[1;32m    518\u001b[0m     resample\u001b[38;5;241m=\u001b[39mresample,\n\u001b[1;32m    519\u001b[0m )\n\u001b[1;32m    521\u001b[0m images, original_sizes, reshaped_input_sizes \u001b[38;5;241m=\u001b[39m \u001b[38;5;28mzip\u001b[39m(\n\u001b[1;32m    522\u001b[0m     \u001b[38;5;241m*\u001b[39m(\n\u001b[0;32m--> 523\u001b[0m         \u001b[38;5;28;43mself\u001b[39;49m\u001b[38;5;241;43m.\u001b[39;49m\u001b[43m_preprocess_image\u001b[49m\u001b[43m(\u001b[49m\n\u001b[1;32m    524\u001b[0m \u001b[43m            \u001b[49m\u001b[43mimage\u001b[49m\u001b[38;5;241;43m=\u001b[39;49m\u001b[43mimg\u001b[49m\u001b[43m,\u001b[49m\n\u001b[1;32m    525\u001b[0m \u001b[43m            \u001b[49m\u001b[43mdo_resize\u001b[49m\u001b[38;5;241;43m=\u001b[39;49m\u001b[43mdo_resize\u001b[49m\u001b[43m,\u001b[49m\n\u001b[1;32m    526\u001b[0m \u001b[43m            \u001b[49m\u001b[43msize\u001b[49m\u001b[38;5;241;43m=\u001b[39;49m\u001b[43msize\u001b[49m\u001b[43m,\u001b[49m\n\u001b[1;32m    527\u001b[0m \u001b[43m            \u001b[49m\u001b[43mresample\u001b[49m\u001b[38;5;241;43m=\u001b[39;49m\u001b[43mresample\u001b[49m\u001b[43m,\u001b[49m\n\u001b[1;32m    528\u001b[0m \u001b[43m            \u001b[49m\u001b[43mdo_rescale\u001b[49m\u001b[38;5;241;43m=\u001b[39;49m\u001b[43mdo_rescale\u001b[49m\u001b[43m,\u001b[49m\n\u001b[1;32m    529\u001b[0m \u001b[43m            \u001b[49m\u001b[43mrescale_factor\u001b[49m\u001b[38;5;241;43m=\u001b[39;49m\u001b[43mrescale_factor\u001b[49m\u001b[43m,\u001b[49m\n\u001b[1;32m    530\u001b[0m \u001b[43m            \u001b[49m\u001b[43mdo_normalize\u001b[49m\u001b[38;5;241;43m=\u001b[39;49m\u001b[43mdo_normalize\u001b[49m\u001b[43m,\u001b[49m\n\u001b[1;32m    531\u001b[0m \u001b[43m            \u001b[49m\u001b[43mimage_mean\u001b[49m\u001b[38;5;241;43m=\u001b[39;49m\u001b[43mimage_mean\u001b[49m\u001b[43m,\u001b[49m\n\u001b[1;32m    532\u001b[0m \u001b[43m            \u001b[49m\u001b[43mimage_std\u001b[49m\u001b[38;5;241;43m=\u001b[39;49m\u001b[43mimage_std\u001b[49m\u001b[43m,\u001b[49m\n\u001b[1;32m    533\u001b[0m \u001b[43m            \u001b[49m\u001b[43mdo_pad\u001b[49m\u001b[38;5;241;43m=\u001b[39;49m\u001b[43mdo_pad\u001b[49m\u001b[43m,\u001b[49m\n\u001b[1;32m    534\u001b[0m \u001b[43m            \u001b[49m\u001b[43mpad_size\u001b[49m\u001b[38;5;241;43m=\u001b[39;49m\u001b[43mpad_size\u001b[49m\u001b[43m,\u001b[49m\n\u001b[1;32m    535\u001b[0m \u001b[43m            \u001b[49m\u001b[43mdo_convert_rgb\u001b[49m\u001b[38;5;241;43m=\u001b[39;49m\u001b[43mdo_convert_rgb\u001b[49m\u001b[43m,\u001b[49m\n\u001b[1;32m    536\u001b[0m \u001b[43m            \u001b[49m\u001b[43mdata_format\u001b[49m\u001b[38;5;241;43m=\u001b[39;49m\u001b[43mdata_format\u001b[49m\u001b[43m,\u001b[49m\n\u001b[1;32m    537\u001b[0m \u001b[43m            \u001b[49m\u001b[43minput_data_format\u001b[49m\u001b[38;5;241;43m=\u001b[39;49m\u001b[43minput_data_format\u001b[49m\u001b[43m,\u001b[49m\n\u001b[1;32m    538\u001b[0m \u001b[43m        \u001b[49m\u001b[43m)\u001b[49m\n\u001b[1;32m    539\u001b[0m         \u001b[38;5;28;01mfor\u001b[39;00m img \u001b[38;5;129;01min\u001b[39;00m images\n\u001b[1;32m    540\u001b[0m     )\n\u001b[1;32m    541\u001b[0m )\n\u001b[1;32m    543\u001b[0m data \u001b[38;5;241m=\u001b[39m {\n\u001b[1;32m    544\u001b[0m     \u001b[38;5;124m\"\u001b[39m\u001b[38;5;124mpixel_values\u001b[39m\u001b[38;5;124m\"\u001b[39m: images,\n\u001b[1;32m    545\u001b[0m     \u001b[38;5;124m\"\u001b[39m\u001b[38;5;124moriginal_sizes\u001b[39m\u001b[38;5;124m\"\u001b[39m: original_sizes,\n\u001b[1;32m    546\u001b[0m     \u001b[38;5;124m\"\u001b[39m\u001b[38;5;124mreshaped_input_sizes\u001b[39m\u001b[38;5;124m\"\u001b[39m: reshaped_input_sizes,\n\u001b[1;32m    547\u001b[0m }\n\u001b[1;32m    549\u001b[0m \u001b[38;5;28;01mif\u001b[39;00m segmentation_maps \u001b[38;5;129;01mis\u001b[39;00m \u001b[38;5;129;01mnot\u001b[39;00m \u001b[38;5;28;01mNone\u001b[39;00m:\n",
      "File \u001b[0;32m~/.pyenv/versions/3.10.4/envs/MedSAM/lib/python3.10/site-packages/transformers/models/sam/image_processing_sam.py:324\u001b[0m, in \u001b[0;36mSamImageProcessor._preprocess_image\u001b[0;34m(self, image, do_resize, size, resample, do_rescale, rescale_factor, do_normalize, image_mean, image_std, do_pad, pad_size, do_convert_rgb, data_format, input_data_format)\u001b[0m\n\u001b[1;32m    318\u001b[0m     logger\u001b[38;5;241m.\u001b[39mwarning_once(\n\u001b[1;32m    319\u001b[0m         \u001b[38;5;124m\"\u001b[39m\u001b[38;5;124mIt looks like you are trying to rescale already rescaled images. If the input\u001b[39m\u001b[38;5;124m\"\u001b[39m\n\u001b[1;32m    320\u001b[0m         \u001b[38;5;124m\"\u001b[39m\u001b[38;5;124m images have pixel values between 0 and 1, set `do_rescale=False` to avoid rescaling them again.\u001b[39m\u001b[38;5;124m\"\u001b[39m\n\u001b[1;32m    321\u001b[0m     )\n\u001b[1;32m    323\u001b[0m \u001b[38;5;28;01mif\u001b[39;00m input_data_format \u001b[38;5;129;01mis\u001b[39;00m \u001b[38;5;28;01mNone\u001b[39;00m:\n\u001b[0;32m--> 324\u001b[0m     input_data_format \u001b[38;5;241m=\u001b[39m \u001b[43minfer_channel_dimension_format\u001b[49m\u001b[43m(\u001b[49m\u001b[43mimage\u001b[49m\u001b[43m)\u001b[49m\n\u001b[1;32m    326\u001b[0m original_size \u001b[38;5;241m=\u001b[39m get_image_size(image, channel_dim\u001b[38;5;241m=\u001b[39minput_data_format)\n\u001b[1;32m    328\u001b[0m image, reshaped_input_size \u001b[38;5;241m=\u001b[39m \u001b[38;5;28mself\u001b[39m\u001b[38;5;241m.\u001b[39m_preprocess(\n\u001b[1;32m    329\u001b[0m     image\u001b[38;5;241m=\u001b[39mimage,\n\u001b[1;32m    330\u001b[0m     do_resize\u001b[38;5;241m=\u001b[39mdo_resize,\n\u001b[0;32m   (...)\u001b[0m\n\u001b[1;32m    340\u001b[0m     input_data_format\u001b[38;5;241m=\u001b[39minput_data_format,\n\u001b[1;32m    341\u001b[0m )\n",
      "File \u001b[0;32m~/.pyenv/versions/3.10.4/envs/MedSAM/lib/python3.10/site-packages/transformers/image_utils.py:206\u001b[0m, in \u001b[0;36minfer_channel_dimension_format\u001b[0;34m(image, num_channels)\u001b[0m\n\u001b[1;32m    204\u001b[0m \u001b[38;5;28;01melif\u001b[39;00m image\u001b[38;5;241m.\u001b[39mshape[last_dim] \u001b[38;5;129;01min\u001b[39;00m num_channels:\n\u001b[1;32m    205\u001b[0m     \u001b[38;5;28;01mreturn\u001b[39;00m ChannelDimension\u001b[38;5;241m.\u001b[39mLAST\n\u001b[0;32m--> 206\u001b[0m \u001b[38;5;28;01mraise\u001b[39;00m \u001b[38;5;167;01mValueError\u001b[39;00m(\u001b[38;5;124m\"\u001b[39m\u001b[38;5;124mUnable to infer channel dimension format\u001b[39m\u001b[38;5;124m\"\u001b[39m)\n",
      "\u001b[0;31mValueError\u001b[0m: Unable to infer channel dimension format"
     ]
    }
   ],
   "source": [
    "# input_boxes = [0., 0., 2429., 2099.]\n",
    "input_boxes = [600., 600., 1200., 1400.] # [x1, y1, x2, y2]\n",
    "\n",
    "inputs = processor(raw_image, input_boxes=[[input_boxes]], return_tensors=\"pt\").to(device)\n",
    "inputs\n",
    "outputs = model(**inputs, multimask_output=False)\n",
    "outputs\n",
    "probs = processor.image_processor.post_process_masks(\n",
    "    outputs.pred_masks.sigmoid().cpu(), \n",
    "    inputs[\"original_sizes\"].cpu(), \n",
    "    inputs[\"reshaped_input_sizes\"].cpu(), binarize=False)\n",
    "\n",
    "\n",
    "\n",
    "def show_mask(mask, ax, random_color):\n",
    "    if random_color:\n",
    "        color = np.concatenate([np.random.random(3), np.array([0.6])], axis=0)\n",
    "    else:\n",
    "        color = np.array([251/255, 252/255, 30/255, 0.6])\n",
    "    h, w = mask.shape[-2:]\n",
    "    mask_image = mask.reshape(h, w, 1) * color.reshape(1, 1, -1)\n",
    "    ax.imshow(mask_image)\n",
    "\n",
    "def show_box(box, ax):\n",
    "    x0, y0 = box[0], box[1]\n",
    "    w, h = box[2] - box[0], box[3] - box[1]\n",
    "    ax.add_patch(plt.Rectangle((x0, y0), w, h, edgecolor=\"blue\", facecolor=(0, 0, 0, 0), lw=2))\n",
    "\n",
    "fig, ax = plt.subplots(1, 2, figsize=(10, 5))\n",
    "ax[0].imshow(np.array(raw_image))\n",
    "show_box(input_boxes, ax[0])\n",
    "ax[0].set_title(\"Input Image and Bounding Box\")\n",
    "ax[0].axis(\"off\")\n",
    "ax[1].imshow(np.array(raw_image))\n",
    "show_mask(mask=probs[0] > 0.5, ax=ax[1], random_color=False)\n",
    "show_box(input_boxes, ax[1])\n",
    "ax[1].set_title(\"MedSAM Segmentation\")\n",
    "ax[1].axis(\"off\")\n",
    "plt.show()"
   ]
  },
  {
   "cell_type": "code",
   "execution_count": null,
   "metadata": {},
   "outputs": [],
   "source": [
    "print(outputs.pred_masks.sigmoid().cpu())\n",
    "print(inputs[\"original_sizes\"].cpu())\n",
    "print(inputs[\"reshaped_input_sizes\"].cpu())\n",
    "probs = processor.image_processor.post_process_masks(\n",
    "    outputs.pred_masks.sigmoid().cpu(), \n",
    "    inputs[\"original_sizes\"].cpu(), \n",
    "    inputs[\"reshaped_input_sizes\"].cpu(), binarize=False)\n",
    "\n",
    "print(probs)"
   ]
  },
  {
   "cell_type": "markdown",
   "metadata": {},
   "source": [
    "# Training"
   ]
  },
  {
   "cell_type": "code",
   "execution_count": 12,
   "metadata": {},
   "outputs": [],
   "source": [
    "# Define your dataset class\n",
    "class ImageMaskDataset(Dataset):\n",
    "    def __init__(self, images, masks):\n",
    "        self.images = images\n",
    "        self.masks = masks\n",
    "\n",
    "    def __len__(self):\n",
    "        return len(self.images)\n",
    "\n",
    "    def __getitem__(self, idx):\n",
    "        image = self.images[idx]\n",
    "        mask = self.masks[idx]\n",
    "        return image, mask"
   ]
  },
  {
   "cell_type": "code",
   "execution_count": 16,
   "metadata": {},
   "outputs": [
    {
     "ename": "AttributeError",
     "evalue": "'collections.OrderedDict' object has no attribute 'config'",
     "output_type": "error",
     "traceback": [
      "\u001b[0;31m---------------------------------------------------------------------------\u001b[0m",
      "\u001b[0;31mAttributeError\u001b[0m                            Traceback (most recent call last)",
      "Cell \u001b[0;32mIn[16], line 6\u001b[0m\n\u001b[1;32m      3\u001b[0m model \u001b[38;5;241m=\u001b[39m torch\u001b[38;5;241m.\u001b[39mload(\u001b[38;5;124m\"\u001b[39m\u001b[38;5;124m/sddata/data/MedSAM/model/flaviagiammarino_medsam-vit-base.pt\u001b[39m\u001b[38;5;124m\"\u001b[39m)\n\u001b[1;32m      4\u001b[0m \u001b[38;5;66;03m# Modify the model's output layer for segmentation task\u001b[39;00m\n\u001b[1;32m      5\u001b[0m \u001b[38;5;66;03m# For example, for binary segmentation, you can use a sigmoid activation\u001b[39;00m\n\u001b[0;32m----> 6\u001b[0m \u001b[43mmodel\u001b[49m\u001b[38;5;241;43m.\u001b[39;49m\u001b[43mconfig\u001b[49m\u001b[38;5;241m.\u001b[39mhidden_size\n\u001b[1;32m      7\u001b[0m model\u001b[38;5;241m.\u001b[39mconfig\n\u001b[1;32m      8\u001b[0m \u001b[38;5;66;03m# model.classifier = nn.Sequential(\u001b[39;00m\n\u001b[1;32m      9\u001b[0m \u001b[38;5;66;03m#     nn.Linear(model.config.vision_config.projection_dim, 1),\u001b[39;00m\n\u001b[1;32m     10\u001b[0m \u001b[38;5;66;03m#     nn.Sigmoid()\u001b[39;00m\n\u001b[1;32m     11\u001b[0m \u001b[38;5;66;03m# )\u001b[39;00m\n",
      "\u001b[0;31mAttributeError\u001b[0m: 'collections.OrderedDict' object has no attribute 'config'"
     ]
    }
   ],
   "source": [
    "# Define your model\n",
    "# model = SamModel.from_pretrained(\"flaviagiammarino/medsam-vit-base\")\n",
    "model = torch.load(\"/sddata/data/MedSAM/model/flaviagiammarino_medsam-vit-base.pt\")\n",
    "# Modify the model's output layer for segmentation task\n",
    "# For example, for binary segmentation, you can use a sigmoid activation\n",
    "model.config.hidden_size\n",
    "model.config\n",
    "# model.classifier = nn.Sequential(\n",
    "#     nn.Linear(model.config.vision_config.projection_dim, 1),\n",
    "#     nn.Sigmoid()\n",
    "# )"
   ]
  },
  {
   "cell_type": "code",
   "execution_count": null,
   "metadata": {},
   "outputs": [],
   "source": [
    "# Define loss function and optimizer\n",
    "criterion = nn.BCELoss()  # Binary Cross Entropy Loss for binary segmentation\n",
    "optimizer = torch.optim.Adam(model.parameters(), lr=1e-4)\n"
   ]
  },
  {
   "cell_type": "code",
   "execution_count": null,
   "metadata": {},
   "outputs": [],
   "source": [
    "# Prepare your dataset and dataloaders\n",
    "train_image = Image.open('/sddata/data/MedSAM/public_test_data_01_10_2023/Color_Fundus/visivite_GA.png')\n",
    "train_mask = Image.open('/sddata/data/MedSAM/public_test_data_01_10_2023/labels/visivite_GA.png')\n",
    "\n",
    "val_image = Image.open('/sddata/data/MedSAM/public_test_data_01_10_2023/Color_Fundus/76_year_old_GA.png')\n",
    "val_mask = Image.open('/sddata/data/MedSAM/public_test_data_01_10_2023/labels/76_year_old_GA.png')\n"
   ]
  },
  {
   "cell_type": "code",
   "execution_count": null,
   "metadata": {},
   "outputs": [],
   "source": [
    "train_image_np = np.array(train_image)\n",
    "train_mask_np = np.array(train_mask)\n",
    "\n",
    "val_image_np = np.array(val_image)\n",
    "val_mask_np = np.array(val_mask)"
   ]
  },
  {
   "cell_type": "code",
   "execution_count": null,
   "metadata": {},
   "outputs": [],
   "source": [
    "print(train_image_np.shape)\n",
    "print(train_mask_np.shape)\n",
    "print(val_image_np.shape)\n",
    "print(val_mask_np.shape)\n"
   ]
  },
  {
   "cell_type": "code",
   "execution_count": null,
   "metadata": {},
   "outputs": [],
   "source": [
    "train_image_np[:,:,0] # R\n",
    "# train_image_np[:,:,1] # G\n",
    "# train_image_np[:,:,2] # B\n",
    "# train_image_np[:,:,3] # alpha\n",
    "\n",
    "# train_image_np[500,500,0] # R pixel at 500, 500\n",
    "# train_image_np[500,500,1]# G pixel at 500, 500\n",
    "# train_image_np[500,500,2]# B pixel at 500, 500\n",
    "# train_image_np[500,500,3]# A pixel at 500, 500"
   ]
  },
  {
   "cell_type": "code",
   "execution_count": null,
   "metadata": {},
   "outputs": [],
   "source": [
    "# Define transformations (resize, convert to tensor)\n",
    "transform = transforms.Compose([\n",
    "    transforms.Resize((1024, 1024)),  # Resize the image and mask to the desired input size\n",
    "    transforms.ToTensor(),           # Convert PIL Image to tensor\n",
    "])"
   ]
  },
  {
   "cell_type": "code",
   "execution_count": null,
   "metadata": {},
   "outputs": [],
   "source": [
    "# Apply transformations to image and mask\n",
    "train_image = transform(train_image)\n",
    "train_mask = transform(train_mask)\n",
    "train_mask = (train_mask > 0.5).float()\n",
    "\n",
    "val_image = transform(val_image)\n",
    "val_mask = transform(val_mask)\n",
    "val_mask = (val_mask > 0.5).float()\n",
    "\n",
    "# Add batch dimension to image and mask\n",
    "train_image = train_image.unsqueeze(0)  # Add batch dimension\n",
    "train_mask = train_mask.unsqueeze(0)    # Add batch dimension\n",
    "\n",
    "val_image = val_image.unsqueeze(0)  # Add batch dimension\n",
    "val_mask = val_mask.unsqueeze(0)    # Add batch dimension"
   ]
  },
  {
   "cell_type": "code",
   "execution_count": null,
   "metadata": {},
   "outputs": [],
   "source": [
    "image_t = train_image[:,0:3,:,:]\n",
    "mask_t = train_mask[:,3,:,:].unsqueeze(1)\n",
    "\n",
    "image_v = val_image[:,0:3,:,:]\n",
    "mask_v = val_mask[:,3,:,:].unsqueeze(1)"
   ]
  },
  {
   "cell_type": "code",
   "execution_count": null,
   "metadata": {},
   "outputs": [],
   "source": [
    "# Check the shapes\n",
    "print(\"Train Image shape:\", image_t.shape)  # Should be (1, 3, 224, 224) if RGB image\n",
    "print(\"Train Mask shape:\", mask_t.shape)    # Should be (1, 1, 224, 224) if single-channel mask\n",
    "\n",
    "print(\"Val Image shape:\", image_v.shape)  # Should be (1, 3, 224, 224) if RGB image\n",
    "print(\"Val Mask shape:\", mask_v.shape)    # Should be (1, 1, 224, 224) if single-channel mask"
   ]
  },
  {
   "cell_type": "code",
   "execution_count": null,
   "metadata": {},
   "outputs": [],
   "source": [
    "train_dataset = ImageMaskDataset(image_t, mask_t)\n",
    "train_loader = DataLoader(train_dataset, batch_size=1, shuffle=True)\n",
    "\n",
    "val_dataset = ImageMaskDataset(image_v, mask_v)\n",
    "val_loader = DataLoader(train_dataset, batch_size=1, shuffle=True)"
   ]
  },
  {
   "cell_type": "code",
   "execution_count": null,
   "metadata": {},
   "outputs": [],
   "source": [
    "model"
   ]
  },
  {
   "cell_type": "code",
   "execution_count": null,
   "metadata": {},
   "outputs": [],
   "source": []
  },
  {
   "cell_type": "code",
   "execution_count": null,
   "metadata": {},
   "outputs": [],
   "source": [
    "# Training loop\n",
    "num_epochs = 1\n",
    "for epoch in range(num_epochs):\n",
    "    model.train()\n",
    "    for images, masks in train_loader:\n",
    "        images = images.to(device)\n",
    "        masks = masks.to(device)\n",
    "\n",
    "        optimizer.zero_grad()\n",
    "\n",
    "        outputs = model(images)\n",
    "\n",
    "        loss = criterion(outputs, masks)\n",
    "        loss.backward()\n",
    "        optimizer.step()\n",
    "\n",
    "    # Validation loop\n",
    "    model.eval()\n",
    "    with torch.no_grad():\n",
    "        val_loss = 0.0\n",
    "        for images, masks in val_loader:\n",
    "            images = images.to(device)\n",
    "            masks = masks.to(device)\n",
    "\n",
    "            outputs = model(images)\n",
    "            val_loss += criterion(outputs, masks).item()\n",
    "\n",
    "        val_loss /= len(val_loader)\n",
    "\n",
    "    print(f\"Epoch [{epoch+1}/{num_epochs}], Train Loss: {loss.item()}, Val Loss: {val_loss}\")\n",
    "\n",
    "# Save the trained model\n",
    "torch.save(model.state_dict(), \"trained_model.pth\")"
   ]
  },
  {
   "cell_type": "code",
   "execution_count": null,
   "metadata": {},
   "outputs": [],
   "source": []
  }
 ],
 "metadata": {
  "kernelspec": {
   "display_name": "MedSAM",
   "language": "python",
   "name": "python3"
  },
  "language_info": {
   "codemirror_mode": {
    "name": "ipython",
    "version": 3
   },
   "file_extension": ".py",
   "mimetype": "text/x-python",
   "name": "python",
   "nbconvert_exporter": "python",
   "pygments_lexer": "ipython3",
   "version": "3.10.4"
  }
 },
 "nbformat": 4,
 "nbformat_minor": 4
}
